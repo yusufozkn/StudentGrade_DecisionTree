{
 "cells": [
  {
   "cell_type": "code",
   "execution_count": 1,
   "id": "a695e9f8-3ca4-46bd-bf6d-90db5c1724a7",
   "metadata": {},
   "outputs": [],
   "source": [
    "import pandas as pd\n",
    "from sklearn.metrics import accuracy_score\n",
    "from sklearn.model_selection import train_test_split\n",
    "from sklearn import tree\n",
    "from io import StringIO\n",
    "import six\n",
    "import sys\n",
    "sys.modules['sklearn.externals.six'] = six\n",
    "from IPython.display import Image  \n",
    "import pydotplus"
   ]
  },
  {
   "cell_type": "code",
   "execution_count": 2,
   "id": "ac3357be-0aff-4521-a43b-f537784a2d78",
   "metadata": {},
   "outputs": [
    {
     "data": {
      "text/plain": [
       "(395, 33)"
      ]
     },
     "execution_count": 2,
     "metadata": {},
     "output_type": "execute_result"
    }
   ],
   "source": [
    "data = pd.read_csv('.\\\\student-mat.csv')\n",
    "data.shape"
   ]
  },
  {
   "cell_type": "code",
   "execution_count": 3,
   "id": "8b857391-94b5-4340-9b2c-7839b95ab623",
   "metadata": {},
   "outputs": [
    {
     "data": {
      "text/plain": [
       "False"
      ]
     },
     "execution_count": 3,
     "metadata": {},
     "output_type": "execute_result"
    }
   ],
   "source": [
    "data.isnull().values.any()"
   ]
  },
  {
   "cell_type": "code",
   "execution_count": 4,
   "id": "5b291260-6288-47c2-908d-4bae40ec7a6a",
   "metadata": {},
   "outputs": [
    {
     "data": {
      "text/plain": [
       "Index(['school', 'sex', 'age', 'address', 'famsize', 'Pstatus', 'Medu', 'Fedu',\n",
       "       'Mjob', 'Fjob', 'reason', 'guardian', 'traveltime', 'studytime',\n",
       "       'failures', 'schoolsup', 'famsup', 'paid', 'activities', 'nursery',\n",
       "       'higher', 'internet', 'romantic', 'famrel', 'freetime', 'goout', 'Dalc',\n",
       "       'Walc', 'health', 'absences', 'G1', 'G2', 'G3'],\n",
       "      dtype='object')"
      ]
     },
     "execution_count": 4,
     "metadata": {},
     "output_type": "execute_result"
    }
   ],
   "source": [
    "data.columns"
   ]
  },
  {
   "cell_type": "code",
   "execution_count": 5,
   "id": "174cbf13-d8c2-429c-a904-1e842f6e11f3",
   "metadata": {},
   "outputs": [
    {
     "data": {
      "text/html": [
       "<div>\n",
       "<style scoped>\n",
       "    .dataframe tbody tr th:only-of-type {\n",
       "        vertical-align: middle;\n",
       "    }\n",
       "\n",
       "    .dataframe tbody tr th {\n",
       "        vertical-align: top;\n",
       "    }\n",
       "\n",
       "    .dataframe thead th {\n",
       "        text-align: right;\n",
       "    }\n",
       "</style>\n",
       "<table border=\"1\" class=\"dataframe\">\n",
       "  <thead>\n",
       "    <tr style=\"text-align: right;\">\n",
       "      <th></th>\n",
       "      <th>school</th>\n",
       "      <th>sex</th>\n",
       "      <th>age</th>\n",
       "      <th>address</th>\n",
       "      <th>famsize</th>\n",
       "      <th>Pstatus</th>\n",
       "      <th>Medu</th>\n",
       "      <th>Fedu</th>\n",
       "      <th>Mjob</th>\n",
       "      <th>Fjob</th>\n",
       "      <th>...</th>\n",
       "      <th>famrel</th>\n",
       "      <th>freetime</th>\n",
       "      <th>goout</th>\n",
       "      <th>Dalc</th>\n",
       "      <th>Walc</th>\n",
       "      <th>health</th>\n",
       "      <th>absences</th>\n",
       "      <th>G1</th>\n",
       "      <th>G2</th>\n",
       "      <th>G3</th>\n",
       "    </tr>\n",
       "  </thead>\n",
       "  <tbody>\n",
       "    <tr>\n",
       "      <th>0</th>\n",
       "      <td>GP</td>\n",
       "      <td>F</td>\n",
       "      <td>18</td>\n",
       "      <td>U</td>\n",
       "      <td>GT3</td>\n",
       "      <td>A</td>\n",
       "      <td>4</td>\n",
       "      <td>4</td>\n",
       "      <td>at_home</td>\n",
       "      <td>teacher</td>\n",
       "      <td>...</td>\n",
       "      <td>4</td>\n",
       "      <td>3</td>\n",
       "      <td>4</td>\n",
       "      <td>1</td>\n",
       "      <td>1</td>\n",
       "      <td>3</td>\n",
       "      <td>6</td>\n",
       "      <td>5</td>\n",
       "      <td>6</td>\n",
       "      <td>6</td>\n",
       "    </tr>\n",
       "    <tr>\n",
       "      <th>1</th>\n",
       "      <td>GP</td>\n",
       "      <td>F</td>\n",
       "      <td>17</td>\n",
       "      <td>U</td>\n",
       "      <td>GT3</td>\n",
       "      <td>T</td>\n",
       "      <td>1</td>\n",
       "      <td>1</td>\n",
       "      <td>at_home</td>\n",
       "      <td>other</td>\n",
       "      <td>...</td>\n",
       "      <td>5</td>\n",
       "      <td>3</td>\n",
       "      <td>3</td>\n",
       "      <td>1</td>\n",
       "      <td>1</td>\n",
       "      <td>3</td>\n",
       "      <td>4</td>\n",
       "      <td>5</td>\n",
       "      <td>5</td>\n",
       "      <td>6</td>\n",
       "    </tr>\n",
       "    <tr>\n",
       "      <th>2</th>\n",
       "      <td>GP</td>\n",
       "      <td>F</td>\n",
       "      <td>15</td>\n",
       "      <td>U</td>\n",
       "      <td>LE3</td>\n",
       "      <td>T</td>\n",
       "      <td>1</td>\n",
       "      <td>1</td>\n",
       "      <td>at_home</td>\n",
       "      <td>other</td>\n",
       "      <td>...</td>\n",
       "      <td>4</td>\n",
       "      <td>3</td>\n",
       "      <td>2</td>\n",
       "      <td>2</td>\n",
       "      <td>3</td>\n",
       "      <td>3</td>\n",
       "      <td>10</td>\n",
       "      <td>7</td>\n",
       "      <td>8</td>\n",
       "      <td>10</td>\n",
       "    </tr>\n",
       "    <tr>\n",
       "      <th>3</th>\n",
       "      <td>GP</td>\n",
       "      <td>F</td>\n",
       "      <td>15</td>\n",
       "      <td>U</td>\n",
       "      <td>GT3</td>\n",
       "      <td>T</td>\n",
       "      <td>4</td>\n",
       "      <td>2</td>\n",
       "      <td>health</td>\n",
       "      <td>services</td>\n",
       "      <td>...</td>\n",
       "      <td>3</td>\n",
       "      <td>2</td>\n",
       "      <td>2</td>\n",
       "      <td>1</td>\n",
       "      <td>1</td>\n",
       "      <td>5</td>\n",
       "      <td>2</td>\n",
       "      <td>15</td>\n",
       "      <td>14</td>\n",
       "      <td>15</td>\n",
       "    </tr>\n",
       "    <tr>\n",
       "      <th>4</th>\n",
       "      <td>GP</td>\n",
       "      <td>F</td>\n",
       "      <td>16</td>\n",
       "      <td>U</td>\n",
       "      <td>GT3</td>\n",
       "      <td>T</td>\n",
       "      <td>3</td>\n",
       "      <td>3</td>\n",
       "      <td>other</td>\n",
       "      <td>other</td>\n",
       "      <td>...</td>\n",
       "      <td>4</td>\n",
       "      <td>3</td>\n",
       "      <td>2</td>\n",
       "      <td>1</td>\n",
       "      <td>2</td>\n",
       "      <td>5</td>\n",
       "      <td>4</td>\n",
       "      <td>6</td>\n",
       "      <td>10</td>\n",
       "      <td>10</td>\n",
       "    </tr>\n",
       "  </tbody>\n",
       "</table>\n",
       "<p>5 rows × 33 columns</p>\n",
       "</div>"
      ],
      "text/plain": [
       "  school sex  age address famsize Pstatus  Medu  Fedu     Mjob      Fjob  ...  \\\n",
       "0     GP   F   18       U     GT3       A     4     4  at_home   teacher  ...   \n",
       "1     GP   F   17       U     GT3       T     1     1  at_home     other  ...   \n",
       "2     GP   F   15       U     LE3       T     1     1  at_home     other  ...   \n",
       "3     GP   F   15       U     GT3       T     4     2   health  services  ...   \n",
       "4     GP   F   16       U     GT3       T     3     3    other     other  ...   \n",
       "\n",
       "  famrel freetime  goout  Dalc  Walc health absences  G1  G2  G3  \n",
       "0      4        3      4     1     1      3        6   5   6   6  \n",
       "1      5        3      3     1     1      3        4   5   5   6  \n",
       "2      4        3      2     2     3      3       10   7   8  10  \n",
       "3      3        2      2     1     1      5        2  15  14  15  \n",
       "4      4        3      2     1     2      5        4   6  10  10  \n",
       "\n",
       "[5 rows x 33 columns]"
      ]
     },
     "execution_count": 5,
     "metadata": {},
     "output_type": "execute_result"
    }
   ],
   "source": [
    "data.head()"
   ]
  },
  {
   "cell_type": "code",
   "execution_count": 6,
   "id": "ca0b2321-7390-4d3f-84ee-5d4b56905196",
   "metadata": {},
   "outputs": [
    {
     "data": {
      "text/plain": [
       "school         2\n",
       "sex            2\n",
       "age            8\n",
       "address        2\n",
       "famsize        2\n",
       "Pstatus        2\n",
       "Medu           5\n",
       "Fedu           5\n",
       "Mjob           5\n",
       "Fjob           5\n",
       "reason         4\n",
       "guardian       3\n",
       "traveltime     4\n",
       "studytime      4\n",
       "failures       4\n",
       "schoolsup      2\n",
       "famsup         2\n",
       "paid           2\n",
       "activities     2\n",
       "nursery        2\n",
       "higher         2\n",
       "internet       2\n",
       "romantic       2\n",
       "famrel         5\n",
       "freetime       5\n",
       "goout          5\n",
       "Dalc           5\n",
       "Walc           5\n",
       "health         5\n",
       "absences      34\n",
       "G1            17\n",
       "G2            17\n",
       "G3            18\n",
       "dtype: int64"
      ]
     },
     "execution_count": 6,
     "metadata": {},
     "output_type": "execute_result"
    }
   ],
   "source": [
    "data.nunique()"
   ]
  },
  {
   "cell_type": "code",
   "execution_count": 7,
   "id": "5fb0af33-35fd-444e-a6d3-b4d6bbd86cbb",
   "metadata": {},
   "outputs": [],
   "source": [
    "data['G3H'] = (data['G3'])"
   ]
  },
  {
   "cell_type": "code",
   "execution_count": 8,
   "id": "8529403a-f8b7-4411-8014-e8a09f7b4fc6",
   "metadata": {},
   "outputs": [
    {
     "name": "stdout",
     "output_type": "stream",
     "text": [
      "<class 'list'>\n"
     ]
    }
   ],
   "source": [
    "def define_G3H(df):\n",
    "\n",
    "    G3H = []\n",
    "\n",
    "    for row in df['G3H']:\n",
    "\n",
    "        if row >= (0.9 * df['G3H'].max()):\n",
    "            G3H.append('A')\n",
    "\n",
    "        elif row >= (0.8 * df['G3H'].max()):\n",
    "            G3H.append('B')\n",
    "\n",
    "        elif row >= (0.7 * df['G3H'].max()):\n",
    "            G3H.append('C')  \n",
    "\n",
    "        elif row >= (0.6 * df['G3H'].max()):\n",
    "            G3H.append('D')\n",
    "\n",
    "        elif row >= (0.5 * df['G3H'].max()):\n",
    "            G3H.append('E') \n",
    "\n",
    "        elif row < (0.5 * df['G3H'].max()):\n",
    "            G3H.append('F')  \n",
    "                     \n",
    "    print(type(G3H))\n",
    "    df['G3H'] = G3H\n",
    "    return df\n",
    "\n",
    "data = define_G3H(data)"
   ]
  },
  {
   "cell_type": "code",
   "execution_count": 9,
   "id": "01b19c7a-ce5a-4cc1-9989-8a82ae0eb076",
   "metadata": {},
   "outputs": [],
   "source": [
    "data['G1H'] = (data['G1'])"
   ]
  },
  {
   "cell_type": "code",
   "execution_count": 10,
   "id": "c88c5c14-2f3a-42a7-a0c6-240d4f0a690d",
   "metadata": {},
   "outputs": [],
   "source": [
    "def define_G1H(df):\n",
    "\n",
    "    G1H = []\n",
    "\n",
    "    for row in df['G1']:\n",
    "\n",
    "        if row >= (0.9 * df['G1H'].max()):\n",
    "            G1H.append('A')\n",
    "\n",
    "        elif row >= (0.8 * df['G1H'].max()):\n",
    "            G1H.append('B')\n",
    "\n",
    "        elif row >= (0.7 * df['G1H'].max()):\n",
    "            G1H.append('C')  \n",
    "\n",
    "        elif row >= (0.6 * df['G1H'].max()):\n",
    "            G1H.append('D')\n",
    "\n",
    "        elif row >= (0.5 * df['G1H'].max()):\n",
    "            G1H.append('E') \n",
    "\n",
    "        elif row < (0.5 * df['G1H'].max()):\n",
    "            G1H.append('F')  \n",
    "                     \n",
    "    print(type(G1H))\n",
    "    df['G1H'] = G1H\n",
    "    return df"
   ]
  },
  {
   "cell_type": "code",
   "execution_count": 11,
   "id": "f674edd8-c97c-401e-b987-15040cddc9cf",
   "metadata": {},
   "outputs": [
    {
     "name": "stdout",
     "output_type": "stream",
     "text": [
      "<class 'list'>\n"
     ]
    },
    {
     "data": {
      "text/html": [
       "<div>\n",
       "<style scoped>\n",
       "    .dataframe tbody tr th:only-of-type {\n",
       "        vertical-align: middle;\n",
       "    }\n",
       "\n",
       "    .dataframe tbody tr th {\n",
       "        vertical-align: top;\n",
       "    }\n",
       "\n",
       "    .dataframe thead th {\n",
       "        text-align: right;\n",
       "    }\n",
       "</style>\n",
       "<table border=\"1\" class=\"dataframe\">\n",
       "  <thead>\n",
       "    <tr style=\"text-align: right;\">\n",
       "      <th></th>\n",
       "      <th>school</th>\n",
       "      <th>sex</th>\n",
       "      <th>age</th>\n",
       "      <th>address</th>\n",
       "      <th>famsize</th>\n",
       "      <th>Pstatus</th>\n",
       "      <th>Medu</th>\n",
       "      <th>Fedu</th>\n",
       "      <th>Mjob</th>\n",
       "      <th>Fjob</th>\n",
       "      <th>...</th>\n",
       "      <th>goout</th>\n",
       "      <th>Dalc</th>\n",
       "      <th>Walc</th>\n",
       "      <th>health</th>\n",
       "      <th>absences</th>\n",
       "      <th>G1</th>\n",
       "      <th>G2</th>\n",
       "      <th>G3</th>\n",
       "      <th>G3H</th>\n",
       "      <th>G1H</th>\n",
       "    </tr>\n",
       "  </thead>\n",
       "  <tbody>\n",
       "    <tr>\n",
       "      <th>0</th>\n",
       "      <td>GP</td>\n",
       "      <td>F</td>\n",
       "      <td>18</td>\n",
       "      <td>U</td>\n",
       "      <td>GT3</td>\n",
       "      <td>A</td>\n",
       "      <td>4</td>\n",
       "      <td>4</td>\n",
       "      <td>at_home</td>\n",
       "      <td>teacher</td>\n",
       "      <td>...</td>\n",
       "      <td>4</td>\n",
       "      <td>1</td>\n",
       "      <td>1</td>\n",
       "      <td>3</td>\n",
       "      <td>6</td>\n",
       "      <td>5</td>\n",
       "      <td>6</td>\n",
       "      <td>6</td>\n",
       "      <td>F</td>\n",
       "      <td>F</td>\n",
       "    </tr>\n",
       "    <tr>\n",
       "      <th>1</th>\n",
       "      <td>GP</td>\n",
       "      <td>F</td>\n",
       "      <td>17</td>\n",
       "      <td>U</td>\n",
       "      <td>GT3</td>\n",
       "      <td>T</td>\n",
       "      <td>1</td>\n",
       "      <td>1</td>\n",
       "      <td>at_home</td>\n",
       "      <td>other</td>\n",
       "      <td>...</td>\n",
       "      <td>3</td>\n",
       "      <td>1</td>\n",
       "      <td>1</td>\n",
       "      <td>3</td>\n",
       "      <td>4</td>\n",
       "      <td>5</td>\n",
       "      <td>5</td>\n",
       "      <td>6</td>\n",
       "      <td>F</td>\n",
       "      <td>F</td>\n",
       "    </tr>\n",
       "    <tr>\n",
       "      <th>2</th>\n",
       "      <td>GP</td>\n",
       "      <td>F</td>\n",
       "      <td>15</td>\n",
       "      <td>U</td>\n",
       "      <td>LE3</td>\n",
       "      <td>T</td>\n",
       "      <td>1</td>\n",
       "      <td>1</td>\n",
       "      <td>at_home</td>\n",
       "      <td>other</td>\n",
       "      <td>...</td>\n",
       "      <td>2</td>\n",
       "      <td>2</td>\n",
       "      <td>3</td>\n",
       "      <td>3</td>\n",
       "      <td>10</td>\n",
       "      <td>7</td>\n",
       "      <td>8</td>\n",
       "      <td>10</td>\n",
       "      <td>E</td>\n",
       "      <td>F</td>\n",
       "    </tr>\n",
       "    <tr>\n",
       "      <th>3</th>\n",
       "      <td>GP</td>\n",
       "      <td>F</td>\n",
       "      <td>15</td>\n",
       "      <td>U</td>\n",
       "      <td>GT3</td>\n",
       "      <td>T</td>\n",
       "      <td>4</td>\n",
       "      <td>2</td>\n",
       "      <td>health</td>\n",
       "      <td>services</td>\n",
       "      <td>...</td>\n",
       "      <td>2</td>\n",
       "      <td>1</td>\n",
       "      <td>1</td>\n",
       "      <td>5</td>\n",
       "      <td>2</td>\n",
       "      <td>15</td>\n",
       "      <td>14</td>\n",
       "      <td>15</td>\n",
       "      <td>C</td>\n",
       "      <td>C</td>\n",
       "    </tr>\n",
       "    <tr>\n",
       "      <th>4</th>\n",
       "      <td>GP</td>\n",
       "      <td>F</td>\n",
       "      <td>16</td>\n",
       "      <td>U</td>\n",
       "      <td>GT3</td>\n",
       "      <td>T</td>\n",
       "      <td>3</td>\n",
       "      <td>3</td>\n",
       "      <td>other</td>\n",
       "      <td>other</td>\n",
       "      <td>...</td>\n",
       "      <td>2</td>\n",
       "      <td>1</td>\n",
       "      <td>2</td>\n",
       "      <td>5</td>\n",
       "      <td>4</td>\n",
       "      <td>6</td>\n",
       "      <td>10</td>\n",
       "      <td>10</td>\n",
       "      <td>E</td>\n",
       "      <td>F</td>\n",
       "    </tr>\n",
       "  </tbody>\n",
       "</table>\n",
       "<p>5 rows × 35 columns</p>\n",
       "</div>"
      ],
      "text/plain": [
       "  school sex  age address famsize Pstatus  Medu  Fedu     Mjob      Fjob  ...  \\\n",
       "0     GP   F   18       U     GT3       A     4     4  at_home   teacher  ...   \n",
       "1     GP   F   17       U     GT3       T     1     1  at_home     other  ...   \n",
       "2     GP   F   15       U     LE3       T     1     1  at_home     other  ...   \n",
       "3     GP   F   15       U     GT3       T     4     2   health  services  ...   \n",
       "4     GP   F   16       U     GT3       T     3     3    other     other  ...   \n",
       "\n",
       "  goout Dalc  Walc  health  absences  G1  G2  G3 G3H G1H  \n",
       "0     4    1     1       3         6   5   6   6   F   F  \n",
       "1     3    1     1       3         4   5   5   6   F   F  \n",
       "2     2    2     3       3        10   7   8  10   E   F  \n",
       "3     2    1     1       5         2  15  14  15   C   C  \n",
       "4     2    1     2       5         4   6  10  10   E   F  \n",
       "\n",
       "[5 rows x 35 columns]"
      ]
     },
     "execution_count": 11,
     "metadata": {},
     "output_type": "execute_result"
    }
   ],
   "source": [
    "data = define_G1H(data)\n",
    "data.head()"
   ]
  },
  {
   "cell_type": "code",
   "execution_count": 12,
   "id": "6a75afa4-53a6-4816-b124-0839ce875c76",
   "metadata": {},
   "outputs": [],
   "source": [
    "#gereksiz buldugum datalarin cikartilmasi\n",
    "data.drop([\"school\",\"age\",\"famsize\",\"Pstatus\",\"reason\",\"traveltime\",\"failures\",\"activities\",\"higher\",\"romantic\",\"famrel\",\"freetime\",\"goout\",\"Dalc\",\"Walc\",\"health\",\"absences\"], axis=1, inplace=True)"
   ]
  },
  {
   "cell_type": "code",
   "execution_count": 13,
   "id": "17f17c21-1ef4-4620-94cd-5ad771723f68",
   "metadata": {},
   "outputs": [],
   "source": [
    "#1 ve 0 a donusturulmesi\n",
    "d = {'yes': 1, 'no': 0}\n",
    "data['schoolsup'] = data['schoolsup'].map(d)\n",
    "data['famsup'] = data['famsup'].map(d)\n",
    "data['paid'] = data['paid'].map(d)\n",
    "data['nursery'] = data['nursery'].map(d)\n",
    "data['internet'] = data['internet'].map(d)"
   ]
  },
  {
   "cell_type": "code",
   "execution_count": 14,
   "id": "1e9f699d-b187-4801-8e5d-87d73c37cf95",
   "metadata": {},
   "outputs": [],
   "source": [
    "d = {'F': 1, 'M': 0}\n",
    "data['sex'] = data['sex'].map(d)\n",
    "\n",
    "d = {'U': 1, 'R': 0}\n",
    "data['address'] = data['address'].map(d)\n",
    "\n",
    "d = {'teacher': 0, 'health': 1, 'services': 2,'at_home': 3,'other': 4}\n",
    "data['Mjob'] = data['Mjob'].map(d)\n",
    "data['Fjob'] = data['Fjob'].map(d)\n",
    "\n",
    "d = {'mother': 0, 'father': 1, 'other': 2}\n",
    "data['guardian'] = data['guardian'].map(d)\n",
    "\n",
    "d = {'F': 0,'E': 1,'D': 2,'C': 3, 'B': 4, 'A': 5}\n",
    "data['G3H'] = data['G3H'].map(d)\n",
    "\n",
    "d = {'F': 0,'E': 1,'D': 2,'C': 3, 'B': 4, 'A': 5}\n",
    "data['G1H'] = data['G1H'].map(d)"
   ]
  },
  {
   "cell_type": "code",
   "execution_count": 15,
   "id": "0025d1ab-82bd-43ed-bf53-245fe8c4e24e",
   "metadata": {},
   "outputs": [
    {
     "data": {
      "text/plain": [
       "sex           2\n",
       "address       2\n",
       "Medu          5\n",
       "Fedu          5\n",
       "Mjob          5\n",
       "Fjob          5\n",
       "guardian      3\n",
       "studytime     4\n",
       "schoolsup     2\n",
       "famsup        2\n",
       "paid          2\n",
       "nursery       2\n",
       "internet      2\n",
       "G1           17\n",
       "G2           17\n",
       "G3           18\n",
       "G3H           6\n",
       "G1H           6\n",
       "dtype: int64"
      ]
     },
     "execution_count": 15,
     "metadata": {},
     "output_type": "execute_result"
    }
   ],
   "source": [
    "data.nunique()"
   ]
  },
  {
   "cell_type": "code",
   "execution_count": 16,
   "id": "d03f6d2d-4117-4b70-861b-a74f8ae4cab4",
   "metadata": {},
   "outputs": [
    {
     "name": "stdout",
     "output_type": "stream",
     "text": [
      "-------\n",
      "['sex', 'address', 'Medu', 'Fedu', 'Mjob', 'Fjob', 'guardian', 'studytime', 'schoolsup', 'famsup', 'paid', 'nursery', 'internet', 'G1']\n",
      "-------\n"
     ]
    }
   ],
   "source": [
    "student_features = data.columns.tolist()\n",
    "student_features.remove('G3H')\n",
    "student_features.remove('G2')\n",
    "student_features.remove('G1H')\n",
    "student_features.remove('G3') \n",
    "print('-------')\n",
    "print(student_features)\n",
    "print('-------')"
   ]
  },
  {
   "cell_type": "code",
   "execution_count": 17,
   "id": "d8145d6e-f40d-494f-8e39-24e2ac64f0c9",
   "metadata": {},
   "outputs": [
    {
     "data": {
      "text/plain": [
       "Index(['sex', 'address', 'Medu', 'Fedu', 'Mjob', 'Fjob', 'guardian',\n",
       "       'studytime', 'schoolsup', 'famsup', 'paid', 'nursery', 'internet',\n",
       "       'G1'],\n",
       "      dtype='object')"
      ]
     },
     "execution_count": 17,
     "metadata": {},
     "output_type": "execute_result"
    }
   ],
   "source": [
    "X = data[student_features].copy()\n",
    "X.columns"
   ]
  },
  {
   "cell_type": "code",
   "execution_count": 18,
   "id": "f077c2ff-1914-4440-8c06-23ad82277c69",
   "metadata": {},
   "outputs": [],
   "source": [
    "y=data[['G3H']].copy()"
   ]
  },
  {
   "cell_type": "code",
   "execution_count": 19,
   "id": "f8986ad9-b550-435d-bb3a-c643b51ef5f7",
   "metadata": {},
   "outputs": [],
   "source": [
    "X_train, X_test, y_train, y_test = train_test_split(X, y, test_size=0.3, random_state=42)"
   ]
  },
  {
   "cell_type": "code",
   "execution_count": 20,
   "id": "3d53899f-6dd4-469b-9cc9-bb7d61826bd9",
   "metadata": {
    "tags": []
   },
   "outputs": [
    {
     "data": {
      "text/plain": [
       "DecisionTreeClassifier(max_leaf_nodes=14, random_state=0)"
      ]
     },
     "execution_count": 20,
     "metadata": {},
     "output_type": "execute_result"
    }
   ],
   "source": [
    "grade_classifier = tree.DecisionTreeClassifier(max_leaf_nodes=len(X.columns), random_state=0)\n",
    "grade_classifier.fit(X_train, y_train)"
   ]
  },
  {
   "cell_type": "code",
   "execution_count": 21,
   "id": "9055fee9-0e22-4215-9155-785ec59ce116",
   "metadata": {},
   "outputs": [],
   "source": [
    "predictions = grade_classifier.predict(X_test)"
   ]
  },
  {
   "cell_type": "code",
   "execution_count": 22,
   "id": "66a644f4-f532-4a78-b15b-8cd5c7522fa4",
   "metadata": {},
   "outputs": [
    {
     "name": "stdout",
     "output_type": "stream",
     "text": [
      "     sex  address  Medu  Fedu  Mjob  Fjob  guardian  studytime  schoolsup  \\\n",
      "78     0        1     2     1     4     4         0          1          1   \n",
      "371    0        0     1     2     3     2         1          1          0   \n",
      "248    0        0     3     3     4     2         0          2          0   \n",
      "55     1        1     2     1     4     4         0          2          0   \n",
      "390    0        1     2     2     2     2         2          2          0   \n",
      "..   ...      ...   ...   ...   ...   ...       ...        ...        ...   \n",
      "281    0        1     3     2     0     2         0          1          0   \n",
      "245    0        1     2     1     4     4         0          1          0   \n",
      "250    0        1     3     2     2     4         0          1          0   \n",
      "218    1        1     2     3     3     4         1          1          0   \n",
      "109    1        1     4     4     1     1         0          3          0   \n",
      "\n",
      "     famsup  paid  nursery  internet  G1  \n",
      "78        1     0        1         1   8  \n",
      "371       1     1        1         1  14  \n",
      "248       1     0        1         1   3  \n",
      "55        0     1        1         1   8  \n",
      "390       1     1        1         0   9  \n",
      "..      ...   ...      ...       ...  ..  \n",
      "281       0     0        1         1  11  \n",
      "245       0     0        1         1  18  \n",
      "250       0     0        1         1   6  \n",
      "218       1     1        1         0   7  \n",
      "109       1     1        1         1  14  \n",
      "\n",
      "[119 rows x 14 columns]\n"
     ]
    },
    {
     "data": {
      "text/plain": [
       "pandas.core.frame.DataFrame"
      ]
     },
     "execution_count": 22,
     "metadata": {},
     "output_type": "execute_result"
    }
   ],
   "source": [
    "print(X_test)\n",
    "type(X_test)"
   ]
  },
  {
   "cell_type": "code",
   "execution_count": 23,
   "id": "c011fd86-c940-458d-b718-29615e7ca2c6",
   "metadata": {},
   "outputs": [
    {
     "data": {
      "text/plain": [
       "0.6302521008403361"
      ]
     },
     "execution_count": 23,
     "metadata": {},
     "output_type": "execute_result"
    }
   ],
   "source": [
    "accuracy_score(y_true = y_test, y_pred = predictions)"
   ]
  },
  {
   "cell_type": "code",
   "execution_count": 24,
   "id": "4a2683d1-b5cf-42af-b230-048ae6745fd3",
   "metadata": {},
   "outputs": [
    {
     "name": "stdout",
     "output_type": "stream",
     "text": [
      "[0 2 0 0 0 2 5 0 0 1 2 0 2 1 4 1 0 1 4 0 2 2 2 0 0 5 1 0 4 1 0 0 3 2 0 0 0\n",
      " 2 2 0 0 0 2 0 5 1 1 4 0 5 2 2 0 0 0 0 2 0 4 5 1 0 0 0 0 2 0 0 0 3 0 0 3 5\n",
      " 2 0 0 3 0 2 2 0 0 0 0 2 0 2 4 0 2 0 2 1 0 0 0 5 5 2 2 2 0 0 1 0 0 0 1 0 0\n",
      " 0 0 0 1 5 0 0 2]\n"
     ]
    }
   ],
   "source": [
    "pd.set_option(\"display.max_rows\", None, \"display.max_columns\", None)\n",
    "print(predictions)"
   ]
  },
  {
   "cell_type": "code",
   "execution_count": 25,
   "id": "99ca3fc3-3ebf-43fd-9dc0-9a2d43aba9e3",
   "metadata": {},
   "outputs": [],
   "source": [
    "\n",
    "#print(y_test)"
   ]
  },
  {
   "cell_type": "code",
   "execution_count": 26,
   "id": "cc095df7-32f1-465c-bff5-a87df8ed8519",
   "metadata": {},
   "outputs": [],
   "source": [
    "#print(y)"
   ]
  },
  {
   "cell_type": "code",
   "execution_count": 27,
   "id": "8e57c7a4-8466-4f4c-a13b-8b76f76fd675",
   "metadata": {},
   "outputs": [
    {
     "data": {
      "image/png": "[encoded data removed]",
      "text/plain": [
       "<IPython.core.display.Image object>"
      ]
     },
     "execution_count": 27,
     "metadata": {},
     "output_type": "execute_result"
    }
   ],
   "source": [
    "dot_data = StringIO()\n",
    "tree.export_graphviz(grade_classifier, out_file=dot_data,  \n",
    "feature_names=student_features)  \n",
    "graph = pydotplus.graph_from_dot_data(dot_data.getvalue())  \n",
    "Image(graph.create_png())"
   ]
  }
 ],
 "metadata": {
  "kernelspec": {
   "display_name": "Python 3 (ipykernel)",
   "language": "python",
   "name": "python3"
  },
  "language_info": {
   "codemirror_mode": {
    "name": "ipython",
    "version": 3
   },
   "file_extension": ".py",
   "mimetype": "text/x-python",
   "name": "python",
   "nbconvert_exporter": "python",
   "pygments_lexer": "ipython3",
   "version": "3.10.3"
  }
 },
 "nbformat": 4,
 "nbformat_minor": 5
}
